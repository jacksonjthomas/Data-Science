{
 "cells": [
  {
   "cell_type": "code",
   "execution_count": 1,
   "metadata": {},
   "outputs": [],
   "source": [
    "import warnings\n",
    "warnings.filterwarnings('ignore')\n",
    "\n",
    "import pandas as pd\n",
    "import numpy as np\n",
    "from plotnine import *\n",
    "import statsmodels.api as sm\n",
    "\n",
    "from sklearn.linear_model import LinearRegression # Linear Regression Model\n",
    "from sklearn.preprocessing import StandardScaler #Z-score variables\n",
    "from sklearn.metrics import mean_squared_error, r2_score, accuracy_score #model evaluation\n",
    "\n",
    "from sklearn.model_selection import train_test_split # simple TT split cv\n",
    "from sklearn.model_selection import KFold # k-fold cv\n",
    "from sklearn.model_selection import LeaveOneOut #LOO cv\n",
    "from sklearn.model_selection import cross_val_score # cross validation metrics\n",
    "from sklearn.model_selection import cross_val_predict # cross validation metrics\n",
    "\n",
    "import time\n",
    "%matplotlib inline"
   ]
  },
  {
   "cell_type": "markdown",
   "metadata": {},
   "source": [
    "## 0. Together\n",
    "TTS, KF, and LOO all aim to estimate the same thing: how a model will perform on unseen data, but they aren't necessarily equivalent (as you'll explore below). I mentioned in lecture that two major things you may want to think about when choosing a method of model validation are *computational expense of the model* and *the size of your dataset*.\n",
    "\n",
    "I often get a lot of students who justify the use of TTS by saying that they were worried about computational expense. However, I hope to show you that except for extremely large datasets (we're talking 100's of thousands of rows), or incredibly complex models (which we won't really touch until the very end), in our class, computational expense between TTS and KF is often negligible and a weak argument for justifying TTS over KF/LOO.\n",
    "\n"
   ]
  },
  {
   "cell_type": "code",
   "execution_count": 3,
   "metadata": {},
   "outputs": [
    {
     "name": "stdout",
     "output_type": "stream",
     "text": [
      "it took 0.19841097699999466 seconds to run this code.\n"
     ]
    }
   ],
   "source": [
    "# example of how to time code\n",
    "start = time.perf_counter()\n",
    "\n",
    "for i in range(0,1000000):\n",
    "    10 + 10\n",
    "\n",
    "\n",
    "stop = time.perf_counter()\n",
    "print(\"it took\", stop-start, \"seconds to run this code.\")"
   ]
  },
  {
   "cell_type": "code",
   "execution_count": 4,
   "metadata": {},
   "outputs": [
    {
     "name": "stdout",
     "output_type": "stream",
     "text": [
      "(1599, 14)\n"
     ]
    },
    {
     "data": {
      "text/html": [
       "<div>\n",
       "<style scoped>\n",
       "    .dataframe tbody tr th:only-of-type {\n",
       "        vertical-align: middle;\n",
       "    }\n",
       "\n",
       "    .dataframe tbody tr th {\n",
       "        vertical-align: top;\n",
       "    }\n",
       "\n",
       "    .dataframe thead th {\n",
       "        text-align: right;\n",
       "    }\n",
       "</style>\n",
       "<table border=\"1\" class=\"dataframe\">\n",
       "  <thead>\n",
       "    <tr style=\"text-align: right;\">\n",
       "      <th></th>\n",
       "      <th>Unnamed: 0</th>\n",
       "      <th>artist_name</th>\n",
       "      <th>danceability</th>\n",
       "      <th>energy</th>\n",
       "      <th>key</th>\n",
       "      <th>loudness</th>\n",
       "      <th>mode</th>\n",
       "      <th>speechiness</th>\n",
       "      <th>acousticness</th>\n",
       "      <th>instrumentalness</th>\n",
       "      <th>liveness</th>\n",
       "      <th>valence</th>\n",
       "      <th>duration_ms</th>\n",
       "      <th>track_name</th>\n",
       "    </tr>\n",
       "  </thead>\n",
       "  <tbody>\n",
       "    <tr>\n",
       "      <th>0</th>\n",
       "      <td>1</td>\n",
       "      <td>Beyoncé</td>\n",
       "      <td>0.386</td>\n",
       "      <td>0.28800</td>\n",
       "      <td>1</td>\n",
       "      <td>-18.513</td>\n",
       "      <td>1</td>\n",
       "      <td>0.0602</td>\n",
       "      <td>0.533</td>\n",
       "      <td>0.01670</td>\n",
       "      <td>0.1410</td>\n",
       "      <td>0.399</td>\n",
       "      <td>43850</td>\n",
       "      <td>balance (mufasa interlude)</td>\n",
       "    </tr>\n",
       "    <tr>\n",
       "      <th>1</th>\n",
       "      <td>2</td>\n",
       "      <td>Beyoncé</td>\n",
       "      <td>0.484</td>\n",
       "      <td>0.36300</td>\n",
       "      <td>5</td>\n",
       "      <td>-8.094</td>\n",
       "      <td>0</td>\n",
       "      <td>0.0368</td>\n",
       "      <td>0.645</td>\n",
       "      <td>0.00000</td>\n",
       "      <td>0.1250</td>\n",
       "      <td>0.201</td>\n",
       "      <td>226479</td>\n",
       "      <td>BIGGER</td>\n",
       "    </tr>\n",
       "    <tr>\n",
       "      <th>2</th>\n",
       "      <td>3</td>\n",
       "      <td>Beyoncé</td>\n",
       "      <td>0.537</td>\n",
       "      <td>0.24700</td>\n",
       "      <td>2</td>\n",
       "      <td>-17.750</td>\n",
       "      <td>1</td>\n",
       "      <td>0.0793</td>\n",
       "      <td>0.199</td>\n",
       "      <td>0.00001</td>\n",
       "      <td>0.4230</td>\n",
       "      <td>0.170</td>\n",
       "      <td>46566</td>\n",
       "      <td>the stars (mufasa interlude)</td>\n",
       "    </tr>\n",
       "    <tr>\n",
       "      <th>3</th>\n",
       "      <td>4</td>\n",
       "      <td>Beyoncé</td>\n",
       "      <td>0.672</td>\n",
       "      <td>0.69600</td>\n",
       "      <td>4</td>\n",
       "      <td>-6.693</td>\n",
       "      <td>0</td>\n",
       "      <td>0.1770</td>\n",
       "      <td>0.200</td>\n",
       "      <td>0.02750</td>\n",
       "      <td>0.0736</td>\n",
       "      <td>0.642</td>\n",
       "      <td>162353</td>\n",
       "      <td>FIND YOUR WAY BACK</td>\n",
       "    </tr>\n",
       "    <tr>\n",
       "      <th>4</th>\n",
       "      <td>5</td>\n",
       "      <td>Beyoncé</td>\n",
       "      <td>0.000</td>\n",
       "      <td>0.00515</td>\n",
       "      <td>9</td>\n",
       "      <td>-22.612</td>\n",
       "      <td>0</td>\n",
       "      <td>0.0000</td>\n",
       "      <td>0.524</td>\n",
       "      <td>0.95000</td>\n",
       "      <td>0.1140</td>\n",
       "      <td>0.000</td>\n",
       "      <td>13853</td>\n",
       "      <td>uncle scar (scar interlude)</td>\n",
       "    </tr>\n",
       "  </tbody>\n",
       "</table>\n",
       "</div>"
      ],
      "text/plain": [
       "   Unnamed: 0 artist_name  danceability   energy  key  loudness  mode  \\\n",
       "0           1     Beyoncé         0.386  0.28800    1   -18.513     1   \n",
       "1           2     Beyoncé         0.484  0.36300    5    -8.094     0   \n",
       "2           3     Beyoncé         0.537  0.24700    2   -17.750     1   \n",
       "3           4     Beyoncé         0.672  0.69600    4    -6.693     0   \n",
       "4           5     Beyoncé         0.000  0.00515    9   -22.612     0   \n",
       "\n",
       "   speechiness  acousticness  instrumentalness  liveness  valence  \\\n",
       "0       0.0602         0.533           0.01670    0.1410    0.399   \n",
       "1       0.0368         0.645           0.00000    0.1250    0.201   \n",
       "2       0.0793         0.199           0.00001    0.4230    0.170   \n",
       "3       0.1770         0.200           0.02750    0.0736    0.642   \n",
       "4       0.0000         0.524           0.95000    0.1140    0.000   \n",
       "\n",
       "   duration_ms                    track_name  \n",
       "0        43850    balance (mufasa interlude)  \n",
       "1       226479                        BIGGER  \n",
       "2        46566  the stars (mufasa interlude)  \n",
       "3       162353            FIND YOUR WAY BACK  \n",
       "4        13853   uncle scar (scar interlude)  "
      ]
     },
     "execution_count": 4,
     "metadata": {},
     "output_type": "execute_result"
    }
   ],
   "source": [
    "p = pd.read_csv(\"https://raw.githubusercontent.com/cmparlettpelleriti/CPSC392ParlettPelleriti/master/Data/PopDivas_data.csv\")\n",
    "print(p.shape)\n",
    "p.head()"
   ]
  },
  {
   "cell_type": "code",
   "execution_count": 5,
   "metadata": {},
   "outputs": [],
   "source": [
    "# Split Data\n",
    "predictors = [\"energy\", \"loudness\", \"mode\", \"speechiness\",\n",
    "              \"acousticness\", \"instrumentalness\", \"liveness\",\n",
    "              \"valence\", \"duration_ms\"]\n"
   ]
  },
  {
   "cell_type": "code",
   "execution_count": 7,
   "metadata": {},
   "outputs": [
    {
     "name": "stdout",
     "output_type": "stream",
     "text": [
      "it took 0.14125893300001735 seconds to run this code.\n"
     ]
    }
   ],
   "source": [
    "# TTS 80/20\n",
    "\n",
    "start = time.perf_counter()\n",
    "\n",
    "###\n",
    "X_train, X_test, y_train, y_test = train_test_split(p[predictors], p[\"danceability\"], test_size=0.2)\n",
    "\n",
    "z = StandardScaler()\n",
    "X_train[predictors] = z.fit_transform(X_train[predictors])\n",
    "X_test[predictors] = z.transform(X_test[predictors])\n",
    "\n",
    "lr = LinearRegression()\n",
    "\n",
    "lr.fit(X_train, y_train)\n",
    "\n",
    "###\n",
    "stop = time.perf_counter()\n",
    "print(\"it took\", stop-start, \"seconds to run this code.\")\n"
   ]
  },
  {
   "cell_type": "code",
   "execution_count": 17,
   "metadata": {},
   "outputs": [
    {
     "name": "stdout",
     "output_type": "stream",
     "text": [
      "it took 0.02603074800003924 seconds to run this code.\n"
     ]
    }
   ],
   "source": [
    "# KF 5\n",
    "start = time.perf_counter()\n",
    "\n",
    "###\n",
    "X = p[predictors]\n",
    "y = p[\"danceability\"]\n",
    "kf = KFold(5)\n",
    "\n",
    "lr = LinearRegression()\n",
    "\n",
    "for train,test in kf.split(X):\n",
    "    X_train = X.loc[train]\n",
    "    X_test = X.loc[test]\n",
    "    y_train = y[train]\n",
    "    y_test = y[test]\n",
    "    \n",
    "    lr.fit(X_train, y_train)\n",
    "\n",
    "###\n",
    "stop = time.perf_counter()\n",
    "print(\"it took\", stop-start, \"seconds to run this code.\")\n"
   ]
  },
  {
   "cell_type": "code",
   "execution_count": 18,
   "metadata": {},
   "outputs": [
    {
     "name": "stdout",
     "output_type": "stream",
     "text": [
      "it took 3.680277009000065 seconds to run this code.\n"
     ]
    }
   ],
   "source": [
    "# LOO\n",
    "start = time.perf_counter()\n",
    "\n",
    "###\n",
    "X = p[predictors]\n",
    "y = p[\"danceability\"]\n",
    "\n",
    "kf = LeaveOneOut()\n",
    "\n",
    "lr = LinearRegression()\n",
    "\n",
    "for train,test in kf.split(X):\n",
    "    X_train = X.loc[train]\n",
    "    X_test = X.loc[test]\n",
    "    y_train = y[train]\n",
    "    y_test = y[test]\n",
    "    \n",
    "    lr.fit(X_train, y_train)\n",
    "\n",
    "###\n",
    "stop = time.perf_counter()\n",
    "print(\"it took\", stop-start, \"seconds to run this code.\")\n"
   ]
  },
  {
   "cell_type": "code",
   "execution_count": 8,
   "metadata": {},
   "outputs": [],
   "source": [
    "# Define functions that can run our model validation simulation\n",
    "\n",
    "def TTSSim():\n",
    "    start = time.perf_counter()\n",
    "\n",
    "    ###\n",
    "    X_train, X_test, y_train, y_test = train_test_split(p[predictors], p[\"danceability\"], test_size=0.2)\n",
    "\n",
    "    z = StandardScaler()\n",
    "    X_train[predictors] = z.fit_transform(X_train[predictors])\n",
    "    X_test[predictors] = z.transform(X_test[predictors])\n",
    "\n",
    "    lr = LinearRegression()\n",
    "\n",
    "    lr.fit(X_train, y_train)\n",
    "\n",
    "    ###\n",
    "    stop = time.perf_counter()\n",
    "    \n",
    "    return(stop-start)\n",
    "\n",
    "def KFSim():\n",
    "    start = time.perf_counter()\n",
    "\n",
    "    ###\n",
    "    X = p[predictors]\n",
    "    y = p[\"danceability\"]\n",
    "    kf = KFold(5)\n",
    "\n",
    "    lr = LinearRegression()\n",
    "\n",
    "    for train,test in kf.split(X):\n",
    "        X_train = X.loc[train]\n",
    "        X_test = X.loc[test]\n",
    "        y_train = y[train]\n",
    "        y_test = y[test]\n",
    "\n",
    "        lr.fit(X_train, y_train)\n",
    "\n",
    "    ###\n",
    "    stop = time.perf_counter()\n",
    "    \n",
    "    return(stop-start)\n",
    "    \n",
    "def LOOSim():\n",
    "    start = time.perf_counter()\n",
    "\n",
    "    ###\n",
    "    X = p[predictors]\n",
    "    y = p[\"danceability\"]\n",
    "\n",
    "    kf = LeaveOneOut()\n",
    "\n",
    "    lr = LinearRegression()\n",
    "\n",
    "    for train,test in kf.split(X):\n",
    "        X_train = X.loc[train]\n",
    "        X_test = X.loc[test]\n",
    "        y_train = y[train]\n",
    "        y_test = y[test]\n",
    "\n",
    "        lr.fit(X_train, y_train)\n",
    "\n",
    "    ###\n",
    "    stop = time.perf_counter()\n",
    "    \n",
    "    return(stop - start)"
   ]
  },
  {
   "cell_type": "code",
   "execution_count": 9,
   "metadata": {},
   "outputs": [
    {
     "data": {
      "image/png": "[encoded data removed]",
      "text/plain": [
       "<Figure size 640x480 with 1 Axes>"
      ]
     },
     "metadata": {},
     "output_type": "display_data"
    },
    {
     "data": {
      "text/plain": [
       "<ggplot: (8794879082228)>"
      ]
     },
     "execution_count": 9,
     "metadata": {},
     "output_type": "execute_result"
    }
   ],
   "source": [
    "tts = [TTSSim() for i in range(0,250)]\n",
    "\n",
    "(ggplot(pd.DataFrame({\"x\": tts}), aes(x = \"x\")) +\n",
    " geom_histogram(fill = \"white\", color = \"black\") + theme_bw() +\n",
    " geom_vline(xintercept = np.mean(tts), color = \"red\", linetype = \"dashed\"))"
   ]
  },
  {
   "cell_type": "code",
   "execution_count": 10,
   "metadata": {},
   "outputs": [
    {
     "data": {
      "image/png": "[encoded data removed]",
      "text/plain": [
       "<Figure size 640x480 with 1 Axes>"
      ]
     },
     "metadata": {},
     "output_type": "display_data"
    },
    {
     "data": {
      "text/plain": [
       "<ggplot: (8794879238428)>"
      ]
     },
     "execution_count": 10,
     "metadata": {},
     "output_type": "execute_result"
    }
   ],
   "source": [
    "kff = [KFSim() for i in range(0,250)]\n",
    "\n",
    "(ggplot(pd.DataFrame({\"x\": kff}), aes(x = \"x\")) +\n",
    " geom_histogram(fill = \"white\", color = \"black\") + theme_bw() +\n",
    " geom_vline(xintercept = np.mean(kff), color = \"red\", linetype = \"dashed\"))"
   ]
  },
  {
   "cell_type": "code",
   "execution_count": 11,
   "metadata": {},
   "outputs": [
    {
     "data": {
      "image/png": "[encoded data removed]",
      "text/plain": [
       "<Figure size 640x480 with 1 Axes>"
      ]
     },
     "metadata": {},
     "output_type": "display_data"
    },
    {
     "data": {
      "text/plain": [
       "<ggplot: (8794879192745)>"
      ]
     },
     "execution_count": 11,
     "metadata": {},
     "output_type": "execute_result"
    }
   ],
   "source": [
    "loo = [LOOSim() for i in range(0,25)]\n",
    "\n",
    "(ggplot(pd.DataFrame({\"x\": loo}), aes(x = \"x\")) +\n",
    " geom_histogram(fill = \"white\", color = \"black\") + theme_bw()+\n",
    " geom_vline(xintercept = np.mean(loo), color = \"red\", linetype = \"dashed\"))"
   ]
  },
  {
   "cell_type": "markdown",
   "metadata": {},
   "source": [
    "## 1. Why K-Fold?\n",
    "\n",
    "In the lecture we learned about 3 types of model validation: *Train-Test-Split*, *K-Fold*, and *Leave-One-Out* (which is just an extreme version of K-Fold).\n",
    "\n",
    "TTS is easy, and computationally inexpensive, so why use K-Fold? One reason we discussed is that K-Fold allows you to use ALL your data in the test-set, and all your data in the training-set at (at least) one point.\n",
    "\n",
    "Use the simulation below to look at how well TTS vs KF estimate the out-of-sample (test-set) error."
   ]
  },
  {
   "cell_type": "code",
   "execution_count": 2,
   "metadata": {},
   "outputs": [
    {
     "data": {
      "text/html": [
       "<div>\n",
       "<style scoped>\n",
       "    .dataframe tbody tr th:only-of-type {\n",
       "        vertical-align: middle;\n",
       "    }\n",
       "\n",
       "    .dataframe tbody tr th {\n",
       "        vertical-align: top;\n",
       "    }\n",
       "\n",
       "    .dataframe thead th {\n",
       "        text-align: right;\n",
       "    }\n",
       "</style>\n",
       "<table border=\"1\" class=\"dataframe\">\n",
       "  <thead>\n",
       "    <tr style=\"text-align: right;\">\n",
       "      <th></th>\n",
       "      <th>KFold</th>\n",
       "      <th>TrainTestSplit</th>\n",
       "    </tr>\n",
       "  </thead>\n",
       "  <tbody>\n",
       "    <tr>\n",
       "      <th>0</th>\n",
       "      <td>0.866397</td>\n",
       "      <td>1.141588</td>\n",
       "    </tr>\n",
       "  </tbody>\n",
       "</table>\n",
       "</div>"
      ],
      "text/plain": [
       "      KFold  TrainTestSplit\n",
       "0  0.866397        1.141588"
      ]
     },
     "execution_count": 2,
     "metadata": {},
     "output_type": "execute_result"
    }
   ],
   "source": [
    "def modelValidationSim(n = 100):\n",
    "    \n",
    "    # Simulate Data---------------------------------------------------------------\n",
    "    \n",
    "    error_sd = 1\n",
    "    # mean cat length in cm\n",
    "    mean_length_cm = 170\n",
    "    # standard deviation of cat length in cm\n",
    "    sd_length_cm = 15\n",
    "    \n",
    "    # generate random data for cat length that follows a normal distribution\n",
    "    length = np.random.normal(loc = mean_length_cm, scale = sd_length_cm, size = n)\n",
    "    \n",
    "    # weight = intercept + length*coefficient + random error\n",
    "    weight = 0.2 + length*0.04 + np.random.normal(0,error_sd,n)\n",
    "    \n",
    "    #creates a df\n",
    "    cats = pd.DataFrame({\"length\": length, \"weight\": weight})\n",
    "    \n",
    "\n",
    "    features = [\"length\"]\n",
    "    X = cats[features]\n",
    "    y = cats[[\"weight\"]] #if you don't have the extra brackets, y will be a series instead of an array and throw an error\n",
    "    \n",
    "    ##############################################\n",
    "    # Build a model using a Train Test Split with 20% (1/5th) of data in the test set\n",
    "    \n",
    "    X_train, X_test, y_train, y_test = train_test_split(X, y, test_size = 0.2)\n",
    "    \n",
    "    ##### Store the test-set MSE in the variable TTS\n",
    "   \n",
    "    model = LinearRegression() \n",
    "    \n",
    "    #fitting test data into LR model\n",
    "    model.fit(X_test, y_test) \n",
    "    \n",
    "    #store test data MSE into TTS\n",
    "    TTS = mean_squared_error(y_test, model.predict(X_test)) #real values, predicted values\n",
    "\n",
    "    ##############################################\n",
    "    # Build a model using a 5-Fold CV\n",
    "    model2 = LinearRegression()\n",
    "    KF_mse = []\n",
    "   \n",
    "    #creates 5 splits for model\n",
    "    folder = KFold(n_splits = 5)\n",
    "    \n",
    "    for train,test in folder.split(X): \n",
    "        X_trainF = X.iloc[train] #grabbing x data frame using iloc ; X_trainF will only have testing data and vice versa\n",
    "        X_testF = X.iloc[test] #Data frame\n",
    "        y_trainF = y.iloc[train] #one vector\n",
    "        y_testF = y.iloc[test]\n",
    "        \n",
    "        #model \n",
    "        KFmodel = model2.fit(X_testF, y_testF)\n",
    "\n",
    "    # Store the average test-set MSE in the variable KF\n",
    "    #add the mse from the KFmodel by comparing the y_testF (real values) to the predicted values using X_testF \n",
    "        KF_mse.append(mean_squared_error(y_testF, KFmodel.predict(X_testF))) \n",
    "    KF = np.mean(KF_mse)\n",
    "    \n",
    "    ##############################################\n",
    "    \n",
    "    # Return a dataframe with the KFold as one Column, and TrainTestSplit as the other (the df should have just 1 row)\n",
    "    # (hint: If using pd.DataFrame() and a dictionary to create the df, make sure you put KF and TTS into\n",
    "    # a list before setting them as a values for your dictionary)\n",
    "    KFmodel_list = [KF]\n",
    "    TTSmodel_list = [TTS]\n",
    "    \n",
    "    \n",
    "    DF = pd.DataFrame({\"KFold\" : KFmodel_list, \"TrainTestSplit\" : TTSmodel_list})\n",
    "    \n",
    "    return (DF)\n",
    "    ##############################################\n",
    "    \n",
    "modelValidationSim()\n"
   ]
  },
  {
   "cell_type": "markdown",
   "metadata": {},
   "source": [
    "### *Question*\n",
    "\n",
    "* In the cell below, use list comprehension to run this simulation 500 times.\n",
    "* Then use ggplot to plot the histograms (or I highly recommend densities `geom_density(alpha = 0.4)` if you wanna get fancy) of the estimated MSE's from TTS vs KFold (look up `pd.melt()` to get your data in long form for this one)\n",
    "* Plot a scatterplot of the TTS vs KFold estimates\n",
    "* What patterns do you see? Is TTS systematically different from KFold? How could any differences you see affect your interpretation of TTS vs KF, or affect which you choose to use?\n",
    "* Try changing `error_sd` (the standard deviation of the random error we add to the simulated data. The larger `error_sd` is, the more spread out data will be around the regression line), does this change the mean squared error estimates? Is there a certain pattern you can see?\n",
    "* change `n` (the number of samples) to be 1000. Does this change anything? Change the difference between KF and TTS?\n",
    "\n",
    "<img src=\"https://drive.google.com/uc?export=view&id=1ghyQPx1N8dmU3MV4TrANvqNhGwnLni72\" alt=\"Q\" width = 200px/>"
   ]
  },
  {
   "cell_type": "code",
   "execution_count": 3,
   "metadata": {},
   "outputs": [],
   "source": [
    "### YOUR CODE HERE ###\n",
    "#run regression sumulation 500 times\n",
    "\n",
    "cat500 = [modelValidationSim(n = 100) for x in range(0,500)]\n",
    "\n",
    "#grab Kfold from cat500\n",
    "KFold_DF = pd.concat([x[\"KFold\"] for x in cat500]) #grab all the Kfold data in the modelValidtionSim\n",
    "\n",
    "#grab traintestSplit \n",
    "TTS_DF = pd.concat([x[\"TrainTestSplit\"] for x in cat500]) #grab all the TTS data in the modelValidtionSim\n",
    "\n"
   ]
  },
  {
   "cell_type": "code",
   "execution_count": 14,
   "metadata": {},
   "outputs": [
    {
     "data": {
      "text/html": [
       "<div>\n",
       "<style scoped>\n",
       "    .dataframe tbody tr th:only-of-type {\n",
       "        vertical-align: middle;\n",
       "    }\n",
       "\n",
       "    .dataframe tbody tr th {\n",
       "        vertical-align: top;\n",
       "    }\n",
       "\n",
       "    .dataframe thead th {\n",
       "        text-align: right;\n",
       "    }\n",
       "</style>\n",
       "<table border=\"1\" class=\"dataframe\">\n",
       "  <thead>\n",
       "    <tr style=\"text-align: right;\">\n",
       "      <th></th>\n",
       "      <th>KFold</th>\n",
       "      <th>Train Test Split</th>\n",
       "    </tr>\n",
       "  </thead>\n",
       "  <tbody>\n",
       "    <tr>\n",
       "      <th>0</th>\n",
       "      <td>0.985145</td>\n",
       "      <td>1.131474</td>\n",
       "    </tr>\n",
       "    <tr>\n",
       "      <th>0</th>\n",
       "      <td>1.063966</td>\n",
       "      <td>1.249654</td>\n",
       "    </tr>\n",
       "    <tr>\n",
       "      <th>0</th>\n",
       "      <td>0.833237</td>\n",
       "      <td>1.077139</td>\n",
       "    </tr>\n",
       "    <tr>\n",
       "      <th>0</th>\n",
       "      <td>1.250537</td>\n",
       "      <td>1.058846</td>\n",
       "    </tr>\n",
       "    <tr>\n",
       "      <th>0</th>\n",
       "      <td>1.052494</td>\n",
       "      <td>1.390844</td>\n",
       "    </tr>\n",
       "  </tbody>\n",
       "</table>\n",
       "</div>"
      ],
      "text/plain": [
       "      KFold  Train Test Split\n",
       "0  0.985145          1.131474\n",
       "0  1.063966          1.249654\n",
       "0  0.833237          1.077139\n",
       "0  1.250537          1.058846\n",
       "0  1.052494          1.390844"
      ]
     },
     "execution_count": 14,
     "metadata": {},
     "output_type": "execute_result"
    }
   ],
   "source": [
    "TTSFolds = pd.DataFrame({\"KFold\" : KFold_DF, \"Train Test Split\" : TTS_DF})\n",
    "TTSFolds.head()"
   ]
  },
  {
   "cell_type": "code",
   "execution_count": 15,
   "metadata": {},
   "outputs": [
    {
     "data": {
      "text/html": [
       "<div>\n",
       "<style scoped>\n",
       "    .dataframe tbody tr th:only-of-type {\n",
       "        vertical-align: middle;\n",
       "    }\n",
       "\n",
       "    .dataframe tbody tr th {\n",
       "        vertical-align: top;\n",
       "    }\n",
       "\n",
       "    .dataframe thead th {\n",
       "        text-align: right;\n",
       "    }\n",
       "</style>\n",
       "<table border=\"1\" class=\"dataframe\">\n",
       "  <thead>\n",
       "    <tr style=\"text-align: right;\">\n",
       "      <th></th>\n",
       "      <th>Model Type</th>\n",
       "      <th>MSE</th>\n",
       "    </tr>\n",
       "  </thead>\n",
       "  <tbody>\n",
       "    <tr>\n",
       "      <th>0</th>\n",
       "      <td>KFold</td>\n",
       "      <td>0.985145</td>\n",
       "    </tr>\n",
       "    <tr>\n",
       "      <th>1</th>\n",
       "      <td>KFold</td>\n",
       "      <td>1.063966</td>\n",
       "    </tr>\n",
       "    <tr>\n",
       "      <th>2</th>\n",
       "      <td>KFold</td>\n",
       "      <td>0.833237</td>\n",
       "    </tr>\n",
       "    <tr>\n",
       "      <th>3</th>\n",
       "      <td>KFold</td>\n",
       "      <td>1.250537</td>\n",
       "    </tr>\n",
       "    <tr>\n",
       "      <th>4</th>\n",
       "      <td>KFold</td>\n",
       "      <td>1.052494</td>\n",
       "    </tr>\n",
       "  </tbody>\n",
       "</table>\n",
       "</div>"
      ],
      "text/plain": [
       "  Model Type       MSE\n",
       "0      KFold  0.985145\n",
       "1      KFold  1.063966\n",
       "2      KFold  0.833237\n",
       "3      KFold  1.250537\n",
       "4      KFold  1.052494"
      ]
     },
     "execution_count": 15,
     "metadata": {},
     "output_type": "execute_result"
    }
   ],
   "source": [
    "#melted\n",
    "TTSFoldsMelt = pd.melt(TTSFolds, var_name = \"Model Type\", value_name = \"MSE\")\n",
    "TTSFoldsMelt.head()"
   ]
  }
 ],
 "metadata": {
  "hide_input": false,
  "kernelspec": {
   "display_name": "Python 3",
   "language": "python",
   "name": "python3"
  },
  "language_info": {
   "codemirror_mode": {
    "name": "ipython",
    "version": 3
   },
   "file_extension": ".py",
   "mimetype": "text/x-python",
   "name": "python",
   "nbconvert_exporter": "python",
   "pygments_lexer": "ipython3",
   "version": "3.8.1"
  },
  "toc": {
   "base_numbering": 1,
   "nav_menu": {},
   "number_sections": true,
   "sideBar": true,
   "skip_h1_title": false,
   "title_cell": "Table of Contents",
   "title_sidebar": "Contents",
   "toc_cell": false,
   "toc_position": {},
   "toc_section_display": true,
   "toc_window_display": false
  }
 },
 "nbformat": 4,
 "nbformat_minor": 4
}
