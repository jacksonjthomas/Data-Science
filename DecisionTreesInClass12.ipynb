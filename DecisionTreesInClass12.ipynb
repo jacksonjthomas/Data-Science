{
 "cells": [
  {
   "cell_type": "code",
   "execution_count": 1,
   "metadata": {},
   "outputs": [],
   "source": [
    "# You should only need these 3 imports to complete this assignment\n",
    "import pandas as pd\n",
    "import numpy as np\n",
    "from plotnine import *\n"
   ]
  },
  {
   "cell_type": "markdown",
   "metadata": {},
   "source": [
    "# 0. Together\n",
    "\n",
    "## Entropy\n",
    "\n",
    "Entropy is a measure of disorder/chaos. We want ordered and organized data in the leaf nodes of our decision trees. So we want LOW entropy. **Entropy** is defined as:\n",
    "\n",
    "$$ E = -\\sum_1^N p_i* log_2(p_i) $$\n",
    "\n",
    "Where $N$ is the number of categories or labels in our outcome variable.\n",
    "\n",
    "This is compared to **gini impurity** which is:\n",
    "\n",
    "$$GI = 1 - \\sum_1^N p_i^2$$\n",
    "\n",
    "Gini impurity is probability of misclassifying a random data point from that node.\n",
    "\n",
    "\n",
    "(if you're super into decision trees, check out this paper [Theoretical comparison between the Gini Index and\n",
    "Information Gain criteria](https://www.unine.ch/files/live/sites/imi/files/shared/documents/papers/Gini_index_fulltext.pdf))\n",
    "\n",
    "### *Question*\n",
    "\n",
    "WHY do we want the leaf nodes of our tree to be ordered (have low entropy or impurity?)?\n",
    "\n",
    "FILTERING PROCESS AND REDUCES VARIATION\n",
    "\n",
    "\n",
    "<img src=\"https://drive.google.com/uc?export=view&id=1ghyQPx1N8dmU3MV4TrANvqNhGwnLni72\" width = 200px />\n"
   ]
  },
  {
   "cell_type": "markdown",
   "metadata": {},
   "source": [
    "## Measures of Chaos for a Split\n",
    "\n",
    "When you split a node, we now have two new nodes. In order to calculate the chaos (entropy or gini impurity) of the split, we have to calculate the chaos (entropy or gini impurity) for EACH of the new nodes and then calculate the weighted average chaos (entropy or gini impurity).  \n",
    "\n",
    "The reason we weight each node differently in this calculation, is because if a node has more data in it, than it has more impact, and therefore its measure of chaos (entropy or gini impurity) should count more.\n",
    "\n",
    "In general, once you've calculated the chaos (entropy or gini impurity) for each of the new nodes, you'll use this formula to calculate the weighted average:\n",
    "\n",
    "\n",
    "$$ WC = (\\frac{N_L}{Total}* C_L) + (\\frac{N_R}{Total}* C_R)$$\n",
    "\n",
    "Where $N_L$ is the number of data points in the Left Node, $N_R$ is the number of data points in the Right Node, and $Total$ is the total number of data points in that split. $C_R$ and $C_L$ are the chaos measure (entropy of gini impurity) for the right and left nodes, respectively.\n",
    "\n"
   ]
  },
  {
   "cell_type": "markdown",
   "metadata": {},
   "source": [
    "## Building a Decision Tree"
   ]
  },
  {
   "cell_type": "code",
   "execution_count": 2,
   "metadata": {},
   "outputs": [],
   "source": [
    "from sklearn.tree import DecisionTreeClassifier # Decision Tree\n",
    "from sklearn.model_selection import train_test_split\n",
    "\n",
    "from sklearn import metrics \n",
    "from sklearn.preprocessing import StandardScaler, LabelEncoder #Z-score variables\n",
    "\n",
    "from sklearn.model_selection import train_test_split # simple TT split cv\n",
    "from sklearn.model_selection import KFold # k-fold cv\n",
    "from sklearn.model_selection import LeaveOneOut #LOO cv\n",
    "from sklearn.metrics import accuracy_score, confusion_matrix\n",
    "from sklearn.metrics import plot_confusion_matrix\n",
    "\n",
    "d = pd.read_csv(\"https://raw.githubusercontent.com/cmparlettpelleriti/CPSC392ParlettPelleriti/master/Data/diabetes2.csv\")\n",
    "\n",
    "predictors = [\"Pregnancies\",\"Glucose\",\"BloodPressure\",\"SkinThickness\",\n",
    "              \"Insulin\",\"BMI\",\"DiabetesPedigreeFunction\",\"Age\"]\n",
    "X = d[predictors]\n",
    "y = d[\"Outcome\"]\n",
    "\n",
    "# TTS\n",
    "X_train, X_test, y_train, y_test = train_test_split(X,y, test_size = 0.2, random_state = 1234)\n"
   ]
  },
  {
   "cell_type": "code",
   "execution_count": 3,
   "metadata": {},
   "outputs": [
    {
     "data": {
      "text/plain": [
       "DecisionTreeClassifier(random_state=1234)"
      ]
     },
     "execution_count": 3,
     "metadata": {},
     "output_type": "execute_result"
    }
   ],
   "source": [
    "tree = DecisionTreeClassifier(random_state = 1234)\n",
    "tree.fit(X_train,y_train)"
   ]
  },
  {
   "cell_type": "code",
   "execution_count": 4,
   "metadata": {},
   "outputs": [
    {
     "data": {
      "text/plain": [
       "<sklearn.metrics._plot.confusion_matrix.ConfusionMatrixDisplay at 0x7faccd2329d0>"
      ]
     },
     "execution_count": 4,
     "metadata": {},
     "output_type": "execute_result"
    },
    {
     "data": {
      "image/png": "[encoded data removed]",
      "text/plain": [
       "<Figure size 432x288 with 2 Axes>"
      ]
     },
     "metadata": {
      "needs_background": "light"
     },
     "output_type": "display_data"
    }
   ],
   "source": [
    "plot_confusion_matrix(tree, X_test, y_test)"
   ]
  },
  {
   "cell_type": "code",
   "execution_count": 5,
   "metadata": {},
   "outputs": [
    {
     "data": {
      "text/plain": [
       "<sklearn.metrics._plot.confusion_matrix.ConfusionMatrixDisplay at 0x7faccd21dc70>"
      ]
     },
     "execution_count": 5,
     "metadata": {},
     "output_type": "execute_result"
    },
    {
     "data": {
      "image/png": "[encoded data removed]",
      "text/plain": [
       "<Figure size 432x288 with 2 Axes>"
      ]
     },
     "metadata": {
      "needs_background": "light"
     },
     "output_type": "display_data"
    }
   ],
   "source": [
    "plot_confusion_matrix(tree, X_train, y_train)"
   ]
  },
  {
   "cell_type": "code",
   "execution_count": 6,
   "metadata": {},
   "outputs": [
    {
     "data": {
      "text/plain": [
       "13"
      ]
     },
     "execution_count": 6,
     "metadata": {},
     "output_type": "execute_result"
    }
   ],
   "source": [
    "# new model\n",
    "tree.get_depth()"
   ]
  },
  {
   "cell_type": "code",
   "execution_count": 7,
   "metadata": {
    "code_folding": [
     0
    ]
   },
   "outputs": [],
   "source": [
    "def simTree(n = 200, max_depth = \"none\"):\n",
    "    \n",
    "    n2 = int(n/2)\n",
    "    \n",
    "    #---generate data-----------------------------------\n",
    "    # generate predictors, only x1 and x2 are related to the outcome\n",
    "    x1 = np.concatenate([np.random.normal(0,1,n2),\n",
    "                         np.random.normal(2,1,n2)])\n",
    "    x2 = np.random.normal(0,1,n)\n",
    "    x3 = np.concatenate([np.random.binomial(1,0.2,n2),\n",
    "                        np.random.binomial(1,0.9, n2)])\n",
    "    \n",
    "    # generate outcome\n",
    "    outcome = np.repeat([\"A\",\"B\"], n2)\n",
    "    \n",
    "    # data frame\n",
    "    df = pd.DataFrame({\"x1\": x1, \"x2\" : x2, \"x3\": x3, \"out\": outcome})\n",
    "    \n",
    "    #---set X and y------------------------------------\n",
    "    X = df[[\"x1\",\"x2\",\"x3\"]]\n",
    "    y = df[[\"out\"]]\n",
    "    X_train, X_test, y_train, y_test = train_test_split(X,y, test_size = 0.2)\n",
    "\n",
    "    \n",
    "    #---build models------------------------------------\n",
    "    \n",
    "    # if there is no max depth, build regular tree\n",
    "    if max_depth == \"none\":\n",
    "        tree = DecisionTreeClassifier() \n",
    "        \n",
    "    # otherwise, set max_depth\n",
    "    else:\n",
    "        tree = DecisionTreeClassifier(max_depth = max_depth)\n",
    "        \n",
    "    tree.fit(X_train,y_train)\n",
    "    \n",
    "    \n",
    "    #---get training and test Accuracy---------------------\n",
    "    train_acc = accuracy_score(y_train,tree.predict(X_train))\n",
    "    test_acc = accuracy_score(y_test,tree.predict(X_test))\n",
    "    \n",
    "    return(pd.DataFrame({\"Set\": [\"Train\", \"Test\",],\n",
    "                        \"Depth\": [str(max_depth), str(max_depth)],\n",
    "                        \"Acc\": [train_acc,\n",
    "                               test_acc]}))\n",
    "    \n",
    "    "
   ]
  },
  {
   "cell_type": "code",
   "execution_count": 8,
   "metadata": {},
   "outputs": [
    {
     "data": {
      "text/html": [
       "<div>\n",
       "<style scoped>\n",
       "    .dataframe tbody tr th:only-of-type {\n",
       "        vertical-align: middle;\n",
       "    }\n",
       "\n",
       "    .dataframe tbody tr th {\n",
       "        vertical-align: top;\n",
       "    }\n",
       "\n",
       "    .dataframe thead th {\n",
       "        text-align: right;\n",
       "    }\n",
       "</style>\n",
       "<table border=\"1\" class=\"dataframe\">\n",
       "  <thead>\n",
       "    <tr style=\"text-align: right;\">\n",
       "      <th></th>\n",
       "      <th>Set</th>\n",
       "      <th>Depth</th>\n",
       "      <th>Acc</th>\n",
       "    </tr>\n",
       "  </thead>\n",
       "  <tbody>\n",
       "    <tr>\n",
       "      <th>0</th>\n",
       "      <td>Train</td>\n",
       "      <td>2</td>\n",
       "      <td>0.908750</td>\n",
       "    </tr>\n",
       "    <tr>\n",
       "      <th>1</th>\n",
       "      <td>Test</td>\n",
       "      <td>2</td>\n",
       "      <td>0.895000</td>\n",
       "    </tr>\n",
       "    <tr>\n",
       "      <th>0</th>\n",
       "      <td>Train</td>\n",
       "      <td>2</td>\n",
       "      <td>0.920625</td>\n",
       "    </tr>\n",
       "    <tr>\n",
       "      <th>1</th>\n",
       "      <td>Test</td>\n",
       "      <td>2</td>\n",
       "      <td>0.902500</td>\n",
       "    </tr>\n",
       "    <tr>\n",
       "      <th>0</th>\n",
       "      <td>Train</td>\n",
       "      <td>2</td>\n",
       "      <td>0.899375</td>\n",
       "    </tr>\n",
       "  </tbody>\n",
       "</table>\n",
       "</div>"
      ],
      "text/plain": [
       "     Set Depth       Acc\n",
       "0  Train     2  0.908750\n",
       "1   Test     2  0.895000\n",
       "0  Train     2  0.920625\n",
       "1   Test     2  0.902500\n",
       "0  Train     2  0.899375"
      ]
     },
     "execution_count": 8,
     "metadata": {},
     "output_type": "execute_result"
    }
   ],
   "source": [
    "sims = [simTree(n = 2000, max_depth = x) for x in np.repeat(range(2,10), 100)]\n",
    "sims = sims + [simTree(n = 2000, max_depth = \"none\") for i in range(0,100)]\n",
    "sims_df = pd.concat(sims)\n",
    "\n",
    "sims_df.head()"
   ]
  },
  {
   "cell_type": "markdown",
   "metadata": {},
   "source": [
    "### Plotting it!\n",
    "Now that we've run our simulation, use the `sims_df` data frame to make a plot that shows us the difference between the train and test accuracy for our full (not limited) and pruned (has a max_depth) trees. \n",
    "\n",
    "Use `geom_boxplot()` to plot Acc for each Tree `Depth`. Fill by Set."
   ]
  },
  {
   "cell_type": "code",
   "execution_count": 10,
   "metadata": {},
   "outputs": [
    {
     "data": {
      "image/png": "[encoded data removed]",
      "text/plain": [
       "<Figure size 640x480 with 1 Axes>"
      ]
     },
     "metadata": {
      "needs_background": "light"
     },
     "output_type": "display_data"
    },
    {
     "data": {
      "text/plain": [
       "<ggplot: (8764790129327)>"
      ]
     },
     "execution_count": 10,
     "metadata": {},
     "output_type": "execute_result"
    }
   ],
   "source": [
    "(ggplot(sims_df, aes(x = \"Depth\", y = \"Acc\", fill = \"Set\")) +\n",
    "geom_boxplot() + theme_minimal() + \n",
    "labs(x = \"Restriction on Depth of Tree\",\n",
    "    y = \"Accuracy\",\n",
    "    title = \"Overfitting in Deep Trees\"))"
   ]
  },
  {
   "cell_type": "markdown",
   "metadata": {},
   "source": [
    "# 1. Measures of Chaos\n",
    "\n",
    "## Gini Impurity\n",
    "\n",
    "Use python and numpy to write two functions, as described in the comments below.\n",
    "\n",
    "- LNP: Left Node Positive (cases)\n",
    "- LNN: Left Node Negative (cases)\n",
    "- RNP: Right Node Positive (cases)\n",
    "- RNN: Right Node Negative (cases)\n",
    "<img src = \"https://drive.google.com/uc?id=1MQEeJDxxcV8zmhzBgaDZ2QY0Ng8z8hz8\" width = 300px/>"
   ]
  },
  {
   "cell_type": "code",
   "execution_count": 13,
   "metadata": {},
   "outputs": [],
   "source": [
    "### YOUR CODE HERE ############\n",
    "\n",
    "\n",
    "def gini(positive, negative):\n",
    "    # this function calculates the gini impurity for ONE node (left, right, or root!)\n",
    "    # this function should take in the POSITIVE cases and NEGATIVE cases as arguments\n",
    "    # and calculate the gini impurity for that node based on the formula above\n",
    "    # return the impurity for the node.\n",
    "    cases = abs(negative) + positive\n",
    "    \n",
    "    l_node = (positive/cases) ** 2\n",
    "    r_node = (negative/cases) ** 2\n",
    "    \n",
    "    impurity = 1 - l_node - r_node\n",
    "    \n",
    "    return impurity\n",
    "    \n",
    "    \n",
    "\n",
    "\n",
    "def gini_split(LNP, LNN, RNP, RNN):\n",
    "    \n",
    "    # this function takes FOUR arguments: LNP, LNN, RNP, and RNN and calculates\n",
    "    # the gini impurity for each node (by calling gini()) and then calculates\n",
    "    # the WEIGHTED average of the impurity in each node.\n",
    "    # return the impurity for the split.\n",
    "    \n",
    "    total_cases = abs(LNN) + abs(RNN) + RNP + LNP #toal pop of cases\n",
    "    \n",
    "    left_node = (abs(LNN) + LNP) / total_cases #gets cases on left / total\n",
    "    right_node = (abs(RNN) + RNP) / total_cases #gets cases on right / total\n",
    "    \n",
    "    left_gini = gini(LNP, LNN)\n",
    "    right_gini = gini(RNP, RNN)\n",
    "    \n",
    "    weighted = (left_node * left_gini) + (right_node * right_gini) #weighted avg formula\n",
    "    \n",
    "    return weighted\n",
    "    \n",
    "    \n",
    "    \n",
    "\n",
    "### YOUR CODE HERE ###############"
   ]
  },
  {
   "cell_type": "code",
   "execution_count": 14,
   "metadata": {},
   "outputs": [
    {
     "data": {
      "text/plain": [
       "True"
      ]
     },
     "execution_count": 14,
     "metadata": {},
     "output_type": "execute_result"
    }
   ],
   "source": [
    "# use this to test your code, if it prints True, you got the right answer\n",
    "\n",
    "abs(gini_split(10,5,2,12) - 0.3481116584564861) <= 0.0001"
   ]
  },
  {
   "cell_type": "markdown",
   "metadata": {},
   "source": [
    "## Entropy\n",
    "\n",
    "Use python and numpy to write two functions, as described by the comments below. If you want to read more about entropy, see this [article](https://bricaud.github.io/personal-blog/entropy-in-decision-trees/).\n",
    "\n",
    "hint: `np.log2()`"
   ]
  },
  {
   "cell_type": "code",
   "execution_count": 30,
   "metadata": {},
   "outputs": [],
   "source": [
    "### YOUR CODE HERE ###############\n",
    "\n",
    "def entropy(positive, negative):\n",
    "    # this function calculates the entropy for ONE node (left, right, or root!)\n",
    "    # this function should take in the POSITIVE cases and NEGATIVE cases counts as arguments\n",
    "    # and calculate the entropy for that node based on the formula above\n",
    "    \n",
    "    total_cases = abs(negative) + positive\n",
    "    \n",
    "    left_prob = positive/total_cases \n",
    "    right_prob = abs(negative)/total_cases\n",
    "    \n",
    "    left_log = np.log2(left_prob)\n",
    "    right_log = np.log2(right_prob)\n",
    "    \n",
    "    entrop = -((left_prob * left_log) + (right_prob * right_log))\n",
    "    \n",
    "    return entrop\n",
    "    \n",
    "\n",
    "def entropy_split(LNP, LNN, RNP, RNN):\n",
    "    # this function takes FOUR arguments: LNP, LNN, RNP, and RNN and calculates\n",
    "    # the entropy for each node (by calling entropy()) and then calculates\n",
    "    # the WEIGHTED average of the entropy in each node.\n",
    "    # return the entropy for the split.\n",
    "    total = abs(LNN) + abs(RNN) + RNP + LNP\n",
    "    \n",
    "    leftN_entropy = entropy(LNP, LNN)\n",
    "    rightN_entropy = entropy(RNP, RNN)\n",
    "    \n",
    "    left_N = (abs(LNN) + LNP) / total\n",
    "    right_N = (abs(RNN) + RNP) / total\n",
    "    \n",
    "    weighted_split = (leftN_entropy * left_N) + (rightN_entropy * right_N)\n",
    "    \n",
    "    return weighted_split\n",
    "\n",
    "### YOUR CODE HERE ###############"
   ]
  },
  {
   "cell_type": "code",
   "execution_count": 32,
   "metadata": {},
   "outputs": [
    {
     "data": {
      "text/plain": [
       "True"
      ]
     },
     "execution_count": 32,
     "metadata": {},
     "output_type": "execute_result"
    }
   ],
   "source": [
    "# use this to test your code, if it prints True, you got the right answer\n",
    "\n",
    "abs(entropy_split(10,5,2,12) - 0.7606157383093077) <= 0.0001"
   ]
  },
  {
   "cell_type": "markdown",
   "metadata": {},
   "source": [
    "# 2. Build a Categorical Decision Tree\n",
    "\n",
    "This dataset from UCI is about edible (`e`) and poisonous (`p`) mushrooms.\n",
    "\n",
    "- `gill-size`: `b` is for broad gills, `n` is for narrow gills.\n",
    "- `bruises`: `t` is for true, there are bruises, `f` for false, there are no bruises.\n",
    "- `poison`: `e` for edible, `p` for poison."
   ]
  },
  {
   "cell_type": "code",
   "execution_count": 34,
   "metadata": {},
   "outputs": [
    {
     "data": {
      "text/html": [
       "<div>\n",
       "<style scoped>\n",
       "    .dataframe tbody tr th:only-of-type {\n",
       "        vertical-align: middle;\n",
       "    }\n",
       "\n",
       "    .dataframe tbody tr th {\n",
       "        vertical-align: top;\n",
       "    }\n",
       "\n",
       "    .dataframe thead th {\n",
       "        text-align: right;\n",
       "    }\n",
       "</style>\n",
       "<table border=\"1\" class=\"dataframe\">\n",
       "  <thead>\n",
       "    <tr style=\"text-align: right;\">\n",
       "      <th></th>\n",
       "      <th>poison</th>\n",
       "      <th>cap-shape</th>\n",
       "      <th>cap-surface</th>\n",
       "      <th>cap-color</th>\n",
       "      <th>bruises</th>\n",
       "      <th>odor</th>\n",
       "      <th>gill-attachment</th>\n",
       "      <th>gill-spacing</th>\n",
       "      <th>gill-size</th>\n",
       "      <th>gill-color</th>\n",
       "      <th>...</th>\n",
       "      <th>stalk-surface-below-ring</th>\n",
       "      <th>stalk-color-above-ring</th>\n",
       "      <th>stalk-color-below-ring</th>\n",
       "      <th>veil-type</th>\n",
       "      <th>veil-color</th>\n",
       "      <th>ring-number</th>\n",
       "      <th>ring-type</th>\n",
       "      <th>spore-print-color</th>\n",
       "      <th>population</th>\n",
       "      <th>habitat</th>\n",
       "    </tr>\n",
       "  </thead>\n",
       "  <tbody>\n",
       "    <tr>\n",
       "      <th>0</th>\n",
       "      <td>e</td>\n",
       "      <td>x</td>\n",
       "      <td>s</td>\n",
       "      <td>y</td>\n",
       "      <td>t</td>\n",
       "      <td>a</td>\n",
       "      <td>f</td>\n",
       "      <td>c</td>\n",
       "      <td>b</td>\n",
       "      <td>k</td>\n",
       "      <td>...</td>\n",
       "      <td>s</td>\n",
       "      <td>w</td>\n",
       "      <td>w</td>\n",
       "      <td>p</td>\n",
       "      <td>w</td>\n",
       "      <td>o</td>\n",
       "      <td>p</td>\n",
       "      <td>n</td>\n",
       "      <td>n</td>\n",
       "      <td>g</td>\n",
       "    </tr>\n",
       "    <tr>\n",
       "      <th>1</th>\n",
       "      <td>e</td>\n",
       "      <td>b</td>\n",
       "      <td>s</td>\n",
       "      <td>w</td>\n",
       "      <td>t</td>\n",
       "      <td>l</td>\n",
       "      <td>f</td>\n",
       "      <td>c</td>\n",
       "      <td>b</td>\n",
       "      <td>n</td>\n",
       "      <td>...</td>\n",
       "      <td>s</td>\n",
       "      <td>w</td>\n",
       "      <td>w</td>\n",
       "      <td>p</td>\n",
       "      <td>w</td>\n",
       "      <td>o</td>\n",
       "      <td>p</td>\n",
       "      <td>n</td>\n",
       "      <td>n</td>\n",
       "      <td>m</td>\n",
       "    </tr>\n",
       "    <tr>\n",
       "      <th>2</th>\n",
       "      <td>p</td>\n",
       "      <td>x</td>\n",
       "      <td>y</td>\n",
       "      <td>w</td>\n",
       "      <td>t</td>\n",
       "      <td>p</td>\n",
       "      <td>f</td>\n",
       "      <td>c</td>\n",
       "      <td>n</td>\n",
       "      <td>n</td>\n",
       "      <td>...</td>\n",
       "      <td>s</td>\n",
       "      <td>w</td>\n",
       "      <td>w</td>\n",
       "      <td>p</td>\n",
       "      <td>w</td>\n",
       "      <td>o</td>\n",
       "      <td>p</td>\n",
       "      <td>k</td>\n",
       "      <td>s</td>\n",
       "      <td>u</td>\n",
       "    </tr>\n",
       "    <tr>\n",
       "      <th>3</th>\n",
       "      <td>e</td>\n",
       "      <td>x</td>\n",
       "      <td>s</td>\n",
       "      <td>g</td>\n",
       "      <td>f</td>\n",
       "      <td>n</td>\n",
       "      <td>f</td>\n",
       "      <td>w</td>\n",
       "      <td>b</td>\n",
       "      <td>k</td>\n",
       "      <td>...</td>\n",
       "      <td>s</td>\n",
       "      <td>w</td>\n",
       "      <td>w</td>\n",
       "      <td>p</td>\n",
       "      <td>w</td>\n",
       "      <td>o</td>\n",
       "      <td>e</td>\n",
       "      <td>n</td>\n",
       "      <td>a</td>\n",
       "      <td>g</td>\n",
       "    </tr>\n",
       "    <tr>\n",
       "      <th>4</th>\n",
       "      <td>e</td>\n",
       "      <td>x</td>\n",
       "      <td>y</td>\n",
       "      <td>y</td>\n",
       "      <td>t</td>\n",
       "      <td>a</td>\n",
       "      <td>f</td>\n",
       "      <td>c</td>\n",
       "      <td>b</td>\n",
       "      <td>n</td>\n",
       "      <td>...</td>\n",
       "      <td>s</td>\n",
       "      <td>w</td>\n",
       "      <td>w</td>\n",
       "      <td>p</td>\n",
       "      <td>w</td>\n",
       "      <td>o</td>\n",
       "      <td>p</td>\n",
       "      <td>k</td>\n",
       "      <td>n</td>\n",
       "      <td>g</td>\n",
       "    </tr>\n",
       "  </tbody>\n",
       "</table>\n",
       "<p>5 rows × 23 columns</p>\n",
       "</div>"
      ],
      "text/plain": [
       "  poison cap-shape cap-surface cap-color bruises odor gill-attachment  \\\n",
       "0      e         x           s         y       t    a               f   \n",
       "1      e         b           s         w       t    l               f   \n",
       "2      p         x           y         w       t    p               f   \n",
       "3      e         x           s         g       f    n               f   \n",
       "4      e         x           y         y       t    a               f   \n",
       "\n",
       "  gill-spacing gill-size gill-color  ... stalk-surface-below-ring  \\\n",
       "0            c         b          k  ...                        s   \n",
       "1            c         b          n  ...                        s   \n",
       "2            c         n          n  ...                        s   \n",
       "3            w         b          k  ...                        s   \n",
       "4            c         b          n  ...                        s   \n",
       "\n",
       "  stalk-color-above-ring stalk-color-below-ring veil-type veil-color  \\\n",
       "0                      w                      w         p          w   \n",
       "1                      w                      w         p          w   \n",
       "2                      w                      w         p          w   \n",
       "3                      w                      w         p          w   \n",
       "4                      w                      w         p          w   \n",
       "\n",
       "  ring-number ring-type spore-print-color population habitat  \n",
       "0           o         p                 n          n       g  \n",
       "1           o         p                 n          n       m  \n",
       "2           o         p                 k          s       u  \n",
       "3           o         e                 n          a       g  \n",
       "4           o         p                 k          n       g  \n",
       "\n",
       "[5 rows x 23 columns]"
      ]
     },
     "execution_count": 34,
     "metadata": {},
     "output_type": "execute_result"
    }
   ],
   "source": [
    "# Load Mushroom Data------------------------------------\n",
    "import pandas as pd\n",
    "\n",
    "# see this site for what variables mean: http://archive.ics.uci.edu/ml/datasets/Mushroom\n",
    "mush = pd.read_csv(\"http://archive.ics.uci.edu/ml/machine-learning-databases/mushroom/agaricus-lepiota.data\")\n",
    "\n",
    "mush.columns = ['poison','cap-shape', 'cap-surface', 'cap-color', 'bruises', 'odor', 'gill-attachment', 'gill-spacing', 'gill-size',\n",
    "                'gill-color', 'stalk-shape', 'stalk-root', 'stalk-surface-above-ring', 'stalk-surface-below-ring',\n",
    "                'stalk-color-above-ring', 'stalk-color-below-ring', 'veil-type', 'veil-color', 'ring-number','ring-type',\n",
    "                'spore-print-color', 'population', 'habitat']\n",
    "\n",
    "mush.head()"
   ]
  },
  {
   "cell_type": "markdown",
   "metadata": {},
   "source": [
    "For your sanity, let's restrict our dataset to 3 predictor variables..."
   ]
  },
  {
   "cell_type": "code",
   "execution_count": 62,
   "metadata": {},
   "outputs": [
    {
     "data": {
      "text/html": [
       "<div>\n",
       "<style scoped>\n",
       "    .dataframe tbody tr th:only-of-type {\n",
       "        vertical-align: middle;\n",
       "    }\n",
       "\n",
       "    .dataframe tbody tr th {\n",
       "        vertical-align: top;\n",
       "    }\n",
       "\n",
       "    .dataframe thead th {\n",
       "        text-align: right;\n",
       "    }\n",
       "</style>\n",
       "<table border=\"1\" class=\"dataframe\">\n",
       "  <thead>\n",
       "    <tr style=\"text-align: right;\">\n",
       "      <th></th>\n",
       "      <th>poison</th>\n",
       "      <th>bruises</th>\n",
       "      <th>gill-size</th>\n",
       "    </tr>\n",
       "  </thead>\n",
       "  <tbody>\n",
       "    <tr>\n",
       "      <th>0</th>\n",
       "      <td>e</td>\n",
       "      <td>t</td>\n",
       "      <td>b</td>\n",
       "    </tr>\n",
       "    <tr>\n",
       "      <th>1</th>\n",
       "      <td>e</td>\n",
       "      <td>t</td>\n",
       "      <td>b</td>\n",
       "    </tr>\n",
       "    <tr>\n",
       "      <th>2</th>\n",
       "      <td>p</td>\n",
       "      <td>t</td>\n",
       "      <td>n</td>\n",
       "    </tr>\n",
       "    <tr>\n",
       "      <th>3</th>\n",
       "      <td>e</td>\n",
       "      <td>f</td>\n",
       "      <td>b</td>\n",
       "    </tr>\n",
       "    <tr>\n",
       "      <th>4</th>\n",
       "      <td>e</td>\n",
       "      <td>t</td>\n",
       "      <td>b</td>\n",
       "    </tr>\n",
       "  </tbody>\n",
       "</table>\n",
       "</div>"
      ],
      "text/plain": [
       "  poison bruises gill-size\n",
       "0      e       t         b\n",
       "1      e       t         b\n",
       "2      p       t         n\n",
       "3      e       f         b\n",
       "4      e       t         b"
      ]
     },
     "execution_count": 62,
     "metadata": {},
     "output_type": "execute_result"
    }
   ],
   "source": [
    "mush_small = mush[[\"poison\", \"bruises\", \"gill-size\"]]\n",
    "\n",
    "mush_small.head()"
   ]
  },
  {
   "cell_type": "code",
   "execution_count": 37,
   "metadata": {},
   "outputs": [
    {
     "data": {
      "image/png": "[encoded data removed]",
      "text/plain": [
       "<Figure size 640x480 with 1 Axes>"
      ]
     },
     "metadata": {
      "needs_background": "light"
     },
     "output_type": "display_data"
    },
    {
     "data": {
      "text/plain": [
       "<ggplot: (8773764780523)>"
      ]
     },
     "execution_count": 37,
     "metadata": {},
     "output_type": "execute_result"
    }
   ],
   "source": [
    "# make a bar plot of counts of edible/poisonous mushrooms############\n",
    "(ggplot(mush_small, aes(x = \"poison\", fill = \"poison\")) + geom_bar() + theme_minimal())"
   ]
  },
  {
   "cell_type": "code",
   "execution_count": 39,
   "metadata": {},
   "outputs": [
    {
     "data": {
      "image/png": "[encoded data removed]",
      "text/plain": [
       "<Figure size 640x480 with 1 Axes>"
      ]
     },
     "metadata": {
      "needs_background": "light"
     },
     "output_type": "display_data"
    },
    {
     "data": {
      "text/plain": [
       "<ggplot: (8773764896329)>"
      ]
     },
     "execution_count": 39,
     "metadata": {},
     "output_type": "execute_result"
    }
   ],
   "source": [
    "# make a bar plot of counts of bruised/not-bruised mushrooms############\n",
    "(ggplot(mush_small, aes( x = \"bruises\" , fill = \"bruises\")) + geom_bar() + theme_minimal())"
   ]
  },
  {
   "cell_type": "code",
   "execution_count": 41,
   "metadata": {},
   "outputs": [
    {
     "data": {
      "image/png": "[encoded data removed]",
      "text/plain": [
       "<Figure size 640x480 with 1 Axes>"
      ]
     },
     "metadata": {
      "needs_background": "light"
     },
     "output_type": "display_data"
    },
    {
     "data": {
      "text/plain": [
       "<ggplot: (8773764968939)>"
      ]
     },
     "execution_count": 41,
     "metadata": {},
     "output_type": "execute_result"
    }
   ],
   "source": [
    "# make a bar plot of counts of broad/narrow gilled mushrooms############\n",
    "(ggplot(mush_small, aes(x = \"gill-size\", fill = \"gill-size\")) + geom_bar() + theme_minimal())"
   ]
  },
  {
   "cell_type": "markdown",
   "metadata": {},
   "source": [
    "## 2.1 Build!\n",
    "\n",
    "Use the functions you built earlier to build a (very small) decision tree that classifies each data point as either edible (`e`) or poisonous (`p`). You can choose to either use entropy or gini impurity. "
   ]
  },
  {
   "cell_type": "markdown",
   "metadata": {},
   "source": [
    "### Layer 1\n",
    "\n",
    "Choose which variable to use to split the first layer. You have three options: leave the root node alone, split on gill-size, or split on bruises.\n",
    "\n"
   ]
  },
  {
   "cell_type": "code",
   "execution_count": 42,
   "metadata": {},
   "outputs": [
    {
     "data": {
      "text/plain": [
       "{'e': 4208, 'p': 3915}"
      ]
     },
     "execution_count": 42,
     "metadata": {},
     "output_type": "execute_result"
    }
   ],
   "source": [
    "# create dictionaries of possible splits############\n",
    "# Try getting something like this for the root node: {'e': 4208, 'p': 3915}\n",
    "# where xxxx are the counts for edible and poisonous mushrooms\n",
    "# BUT CALCULATE IT FROM THE DATA, DON'T JUST HARDCODE THAT DICTIONARY\n",
    "# use this this as an example! But feel free to come up with more elegant ways\n",
    "poison_count = {\"e\": mush_small.loc[mush_small.poison == \"e\"].shape[0],\n",
    "                \"p\": mush_small.loc[mush_small.poison == \"p\"].shape[0]}\n",
    "\n",
    "poison_count"
   ]
  },
  {
   "cell_type": "code",
   "execution_count": 58,
   "metadata": {},
   "outputs": [
    {
     "data": {
      "text/plain": [
       "{'f': {'e': 1456, 'p': 3292}, 't': {'e': 2752, 'p': 623}}"
      ]
     },
     "execution_count": 58,
     "metadata": {},
     "output_type": "execute_result"
    }
   ],
   "source": [
    "# Something like this for splitting on bruise: \n",
    "# bruise_dict = {'f': {'e': 1456, 'p': 3292}, 't': {'e': 2752, 'p': 623}}\n",
    "# where bruise_dict['f']['e'] would be the # of non-bruised, edible mushrooms\n",
    "# BUT CALCULATE IT FROM THE DATA, DON'T JUST HARDCODE THAT DICTIONARY\n",
    "f_count = mush_small[mush_small[\"bruises\"] == 'f'] #filters out a df where bruised = f\n",
    "t_count = mush_small[mush_small[\"bruises\"] == 't'] #filters out a df where bruised = t\n",
    "\n",
    "ef_count = f_count.loc[f_count.poison == 'e'].shape[0] # counts all edible non bruised\n",
    "pf_count = f_count.loc[f_count.poison == 'p'].shape[0] # counts all poisionous non bruised\n",
    "\n",
    "EPF = {'e': ef_count, 'p': pf_count}  #makes dictionary of all the non bruised mushrooms\n",
    "\n",
    "et_count = t_count.loc[t_count.poison == 'e'].shape[0] # counts all edible bruised\n",
    "pt_count = t_count.loc[t_count.poison == 'p'].shape[0] # counts all poisonous bruised\n",
    "\n",
    "EPT = {'e': et_count, 'p': pt_count} #makes dictionary of all the bruised mushrooms\n",
    "\n",
    "bruise_dict = {'f' : EPF, 't' : EPT } #ounts the edibility/poisionous of bruised and non bruised shrooms\n",
    "### YOUR CODE HERE ###\n",
    "bruise_dict"
   ]
  },
  {
   "cell_type": "code",
   "execution_count": 57,
   "metadata": {},
   "outputs": [
    {
     "data": {
      "text/plain": [
       "{'b': {'e': 3920, 'p': 1692}, 'n': {'e': 288, 'p': 2223}}"
      ]
     },
     "execution_count": 57,
     "metadata": {},
     "output_type": "execute_result"
    }
   ],
   "source": [
    "# Something like this for splitting on gill: \n",
    "# gill_dict = {'b': {'e': 5612, 'p': 1692}, 'n': {'e': 2511, 'p': 2223}}\n",
    "# where gill_dict['b']['e'] would be the # of broad, edible mushrooms\n",
    "# BUT CALCULATE IT FROM THE DATA, DON'T JUST HARDCODE THAT DICTIONARY\n",
    "b_count = mush_small[mush_small[\"gill-size\"] == 'b'] #filters out a df where gill-size = broad\n",
    "n_count = mush_small[mush_small[\"gill-size\"] == 'n'] #filters out a df where gill-size = narrow\n",
    "\n",
    "eb_count = b_count.loc[b_count.poison == 'e'].shape[0] #counts all edible broad gill shrooms\n",
    "pb_count = b_count.loc[b_count.poison == 'p'].shape[0] #counts all poisionous broad gill shrooms\n",
    "\n",
    "EPB = {'e': eb_count, 'p': pb_count} #creates a dict of all broad shrooms \n",
    "\n",
    "en_count = n_count.loc[n_count.poison == 'e'].shape[0] #counts all edible narrow gill shrooms\n",
    "pn_count = n_count.loc[n_count.poison == 'p'].shape[0] #counts all poisionous narrow gill shrooms\n",
    "\n",
    "EPN = {'e': en_count, 'p': pn_count} #creates a dict of all narrow shrooms\n",
    "\n",
    "gill_dict = {'b' : EPB, 'n' : EPN }\n",
    "\n",
    "\n",
    "### YOUR CODE HERE ###\n",
    "gill_dict"
   ]
  },
  {
   "cell_type": "code",
   "execution_count": 60,
   "metadata": {},
   "outputs": [
    {
     "name": "stdout",
     "output_type": "stream",
     "text": [
      "0.4993494624966936  root node\n",
      "0.4648717827365685  bruise split\n",
      "0.35376958485233295  gill split\n"
     ]
    }
   ],
   "source": [
    "# calculate impurity/entropy of each possible split using your functions###########\n",
    "\n",
    "# 1. no split (impurity/entropy of root node)\n",
    "print(gini(poison_count['e'], poison_count['p']) , \" root node\")\n",
    "\n",
    "\n",
    "\n",
    "# 2. split on bruise (impurity/entropy of bruise node)\n",
    "\n",
    "print(gini_split(bruise_dict[\"f\"][\"e\"], bruise_dict[\"f\"][\"p\"], bruise_dict[\"t\"][\"e\"], bruise_dict[\"f\"][\"p\"]) , \" bruise split\")\n",
    "\n",
    "# 3. split on gill-size (impurity/entropy of gill node)\n",
    "print(gini_split(gill_dict[\"b\"][\"e\"], gill_dict[\"b\"][\"p\"], gill_dict[\"n\"][\"e\"], gill_dict[\"n\"][\"p\"]), \" gill split\")"
   ]
  },
  {
   "cell_type": "code",
   "execution_count": 61,
   "metadata": {},
   "outputs": [
    {
     "data": {
      "text/plain": [
       "{'b': {'e': 3920, 'p': 1692}, 'n': {'e': 288, 'p': 2223}}"
      ]
     },
     "execution_count": 61,
     "metadata": {},
     "output_type": "execute_result"
    }
   ],
   "source": [
    "# choose which split improves prediction most############\n",
    "gill_dict"
   ]
  },
  {
   "cell_type": "markdown",
   "metadata": {},
   "source": [
    "### *Question*\n",
    "\n",
    "Does splitting the root node improve the tree? How can you tell?\n",
    "\n",
    "YES IT HAS A LOWER IMPURITY\n",
    "\n",
    "<img src=\"https://drive.google.com/uc?export=view&id=1ghyQPx1N8dmU3MV4TrANvqNhGwnLni72\" width = 200px />"
   ]
  },
  {
   "cell_type": "markdown",
   "metadata": {},
   "source": [
    "### Answer"
   ]
  },
  {
   "cell_type": "markdown",
   "metadata": {},
   "source": [
    "\n",
    "### 2.1.2 Create Classifications\n",
    "\n",
    "Pretend that this decision stump (a decision tree with only one layer, selected in the previous part) is your final tree. Generate the classification for each data point and store it in `mush_small`. You should end up with a column where the value is `e` if your predicted the mushroom is edible, and `p` if you predicted the model is poisonous.\n",
    "\n",
    "\n",
    "Remember, once you have chosen your split, we predict that the data point in each node is whatever class is most common in that node. For example, if you did no splits, and just used the root node, we would predict that all mushrooms are edible (`e`) because it is the most common in the root node (`{'e': 4208, 'p': 3915}`)."
   ]
  },
  {
   "cell_type": "code",
   "execution_count": 71,
   "metadata": {},
   "outputs": [
    {
     "data": {
      "text/html": [
       "<div>\n",
       "<style scoped>\n",
       "    .dataframe tbody tr th:only-of-type {\n",
       "        vertical-align: middle;\n",
       "    }\n",
       "\n",
       "    .dataframe tbody tr th {\n",
       "        vertical-align: top;\n",
       "    }\n",
       "\n",
       "    .dataframe thead th {\n",
       "        text-align: right;\n",
       "    }\n",
       "</style>\n",
       "<table border=\"1\" class=\"dataframe\">\n",
       "  <thead>\n",
       "    <tr style=\"text-align: right;\">\n",
       "      <th></th>\n",
       "      <th>poison</th>\n",
       "      <th>bruises</th>\n",
       "      <th>gill-size</th>\n",
       "    </tr>\n",
       "  </thead>\n",
       "  <tbody>\n",
       "    <tr>\n",
       "      <th>0</th>\n",
       "      <td>1</td>\n",
       "      <td>t</td>\n",
       "      <td>1</td>\n",
       "    </tr>\n",
       "    <tr>\n",
       "      <th>1</th>\n",
       "      <td>1</td>\n",
       "      <td>t</td>\n",
       "      <td>1</td>\n",
       "    </tr>\n",
       "    <tr>\n",
       "      <th>2</th>\n",
       "      <td>0</td>\n",
       "      <td>t</td>\n",
       "      <td>0</td>\n",
       "    </tr>\n",
       "    <tr>\n",
       "      <th>3</th>\n",
       "      <td>1</td>\n",
       "      <td>f</td>\n",
       "      <td>1</td>\n",
       "    </tr>\n",
       "    <tr>\n",
       "      <th>4</th>\n",
       "      <td>1</td>\n",
       "      <td>t</td>\n",
       "      <td>1</td>\n",
       "    </tr>\n",
       "  </tbody>\n",
       "</table>\n",
       "</div>"
      ],
      "text/plain": [
       "   poison bruises  gill-size\n",
       "0       1       t          1\n",
       "1       1       t          1\n",
       "2       0       t          0\n",
       "3       1       f          1\n",
       "4       1       t          1"
      ]
     },
     "execution_count": 71,
     "metadata": {},
     "output_type": "execute_result"
    }
   ],
   "source": [
    "mod_mush = mush_small.replace(['b', 'n'], [ 1, 0] ) #replace with nums 1 = broad 0 = narrow\n",
    "mod_mush = mod_mush.replace(['e', 'p'], [ 1, 0] ) #replace with nums 1 = edible 0 = poisonous\n",
    "mod_mush.head()"
   ]
  },
  {
   "cell_type": "code",
   "execution_count": 70,
   "metadata": {},
   "outputs": [
    {
     "data": {
      "text/plain": [
       "DecisionTreeClassifier()"
      ]
     },
     "execution_count": 70,
     "metadata": {},
     "output_type": "execute_result"
    }
   ],
   "source": [
    "# classification############\n",
    "\n",
    "X = mod_mush[[\"gill-size\"]]\n",
    "y = mod_mush[\"poison\"]\n",
    "\n",
    "X_train, X_test, y_train, y_test = train_test_split(X,y, test_size = 0.2)\n",
    "\n",
    "tree = DecisionTreeClassifier()\n",
    "tree.fit(X_train, y_train)"
   ]
  },
  {
   "cell_type": "markdown",
   "metadata": {},
   "source": [
    "### 2.1.3 Calculate Accuracy\n",
    "\n",
    "Count how often your model made the correct classification. How well did your model do?\n",
    "\n",
    "Remember that accuracy is the same as checking how many times the true classification is `==` our predicted classification..."
   ]
  },
  {
   "cell_type": "code",
   "execution_count": 73,
   "metadata": {},
   "outputs": [
    {
     "data": {
      "text/plain": [
       "0.7409230769230769"
      ]
     },
     "execution_count": 73,
     "metadata": {},
     "output_type": "execute_result"
    }
   ],
   "source": [
    "# accuracy############\n",
    "y_pred = tree.predict(X_test)\n",
    "\n",
    "accuracy_score(y_pred, y_test)"
   ]
  },
  {
   "cell_type": "markdown",
   "metadata": {},
   "source": [
    "# 3. Chaos\n",
    "\n",
    "### *Question*\n",
    "\n",
    "When would Gini Impurity be 0? When would Entropy be 0? What does that mean about our tree/node?\n",
    "\n",
    "<img src=\"https://drive.google.com/uc?export=view&id=1ghyQPx1N8dmU3MV4TrANvqNhGwnLni72\" width = 200px />"
   ]
  },
  {
   "cell_type": "markdown",
   "metadata": {},
   "source": [
    "### Answer"
   ]
  }
 ],
 "metadata": {
  "hide_input": false,
  "kernelspec": {
   "display_name": "Python 3",
   "language": "python",
   "name": "python3"
  },
  "language_info": {
   "codemirror_mode": {
    "name": "ipython",
    "version": 3
   },
   "file_extension": ".py",
   "mimetype": "text/x-python",
   "name": "python",
   "nbconvert_exporter": "python",
   "pygments_lexer": "ipython3",
   "version": "3.8.1"
  },
  "toc": {
   "base_numbering": 1,
   "nav_menu": {},
   "number_sections": true,
   "sideBar": true,
   "skip_h1_title": false,
   "title_cell": "Table of Contents",
   "title_sidebar": "Contents",
   "toc_cell": false,
   "toc_position": {},
   "toc_section_display": true,
   "toc_window_display": false
  }
 },
 "nbformat": 4,
 "nbformat_minor": 4
}
